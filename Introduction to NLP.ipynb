{
 "cells": [
  {
   "cell_type": "markdown",
   "metadata": {},
   "source": [
    "## Introduction To Netural language processing"
   ]
  },
  {
   "cell_type": "markdown",
   "metadata": {},
   "source": [
    "### install NLTK\n",
    "pip install nltk"
   ]
  },
  {
   "cell_type": "code",
   "execution_count": 115,
   "metadata": {},
   "outputs": [],
   "source": [
    "import nltk"
   ]
  },
  {
   "cell_type": "code",
   "execution_count": 2,
   "metadata": {},
   "outputs": [
    {
     "name": "stderr",
     "output_type": "stream",
     "text": [
      "[nltk_data] Downloading package stopwords to C:\\Users\\Gopi\n",
      "[nltk_data]     Jaiswal\\AppData\\Roaming\\nltk_data...\n",
      "[nltk_data]   Package stopwords is already up-to-date!\n"
     ]
    },
    {
     "data": {
      "text/plain": [
       "True"
      ]
     },
     "execution_count": 2,
     "metadata": {},
     "output_type": "execute_result"
    }
   ],
   "source": [
    "  nltk.download('stopwords')    #is use to download corpus ,we can specifie the name of corpus to download by name"
   ]
  },
  {
   "cell_type": "code",
   "execution_count": 3,
   "metadata": {},
   "outputs": [],
   "source": [
    "# corpus -- it is large collection of text"
   ]
  },
  {
   "cell_type": "code",
   "execution_count": 4,
   "metadata": {},
   "outputs": [
    {
     "data": {
      "text/plain": [
       "['The', 'Fulton', 'County', 'Grand', 'Jury', 'said', ...]"
      ]
     },
     "execution_count": 4,
     "metadata": {},
     "output_type": "execute_result"
    }
   ],
   "source": [
    "from nltk.corpus import brown\n",
    "brown.words()"
   ]
  },
  {
   "cell_type": "code",
   "execution_count": 5,
   "metadata": {},
   "outputs": [
    {
     "name": "stdout",
     "output_type": "stream",
     "text": [
      "['adventure', 'belles_lettres', 'editorial', 'fiction', 'government', 'hobbies', 'humor', 'learned', 'lore', 'mystery', 'news', 'religion', 'reviews', 'romance', 'science_fiction']\n",
      "15\n"
     ]
    }
   ],
   "source": [
    "print(brown.categories())  # we can see the all the categories \n",
    "print(len(brown.categories()))  # there are 15 categories"
   ]
  },
  {
   "cell_type": "code",
   "execution_count": 6,
   "metadata": {},
   "outputs": [],
   "source": [
    "brown?"
   ]
  },
  {
   "cell_type": "code",
   "execution_count": 7,
   "metadata": {},
   "outputs": [
    {
     "name": "stdout",
     "output_type": "stream",
     "text": [
      "[['Dan', 'Morgan', 'told', 'himself', 'he', 'would', 'forget', 'Ann', 'Turner', '.'], ['He', 'was', 'well', 'rid', 'of', 'her', '.'], ...]\n",
      "['He', 'was', 'well', 'rid', 'of', 'her', '.']\n",
      "He was well rid of her .\n"
     ]
    }
   ],
   "source": [
    "data=brown.sents(categories='adventure')  # This is a syntax for check the sentences in any categories\n",
    "print(data)\n",
    "len(data)\n",
    "print(data[1])  # we can join it\n",
    "\n",
    "\n",
    "\n",
    "print(' '.join(data[1])) # this is the sentaces of row 1;"
   ]
  },
  {
   "cell_type": "code",
   "execution_count": 8,
   "metadata": {},
   "outputs": [
    {
     "name": "stdout",
     "output_type": "stream",
     "text": [
      "4249\n",
      "[['Thirty-three'], ['Scotty', 'did', 'not', 'go', 'back', 'to', 'school', '.'], ...]\n"
     ]
    }
   ],
   "source": [
    "data=brown.sents(categories='fiction')\n",
    "print(len(data))\n",
    "print(data)"
   ]
  },
  {
   "cell_type": "code",
   "execution_count": 9,
   "metadata": {},
   "outputs": [
    {
     "data": {
      "text/plain": [
       "'Scotty did not go back to school .'"
      ]
     },
     "execution_count": 9,
     "metadata": {},
     "output_type": "execute_result"
    }
   ],
   "source": [
    "' '.join(data[1])  # first sentence of ficition categories"
   ]
  },
  {
   "cell_type": "markdown",
   "metadata": {},
   "source": [
    "## Bag of words pipeline\n",
    "- Get the data/Corpus\n",
    "- Tokenisation ,stopward Removal\n",
    "- Stemming /Lemmatisation\n",
    "- Building a Vocab\n",
    "- Vectorization\n",
    "- Classification"
   ]
  },
  {
   "cell_type": "code",
   "execution_count": 10,
   "metadata": {},
   "outputs": [],
   "source": [
    "## Bag of words is a way to convert a textual data to numeric data\n",
    "## Then this number give to classifier to predictions\n",
    "\n",
    "# Tokenisation -- convert words into tokens\n",
    "\n",
    "# words which is not meaning full is called stopword removal.Exmaple\n",
    "#  i am running . so here am is need not to collect\n",
    "# so we can remove word like preposition ,determinance a,an ,the etc.\n",
    "\n",
    "\n",
    "### Stemming/lemmatisation -- convert diffenent form of the verb to different base verb.\n",
    "\n",
    "\n",
    "## after tokenisation and stopward removal and stemming there is left  only list of unique words.( building a vocab) \n",
    "\n",
    "\n",
    "# vectorisation-- we make a list with all 0 of size list of unique words and at every time we increses the freq of words at that index.\n",
    "\n",
    "# it does not matter the oreder mean oreder is not important .\n"
   ]
  },
  {
   "cell_type": "markdown",
   "metadata": {},
   "source": [
    "## Tokenisations and stopword removal"
   ]
  },
  {
   "cell_type": "code",
   "execution_count": 11,
   "metadata": {},
   "outputs": [],
   "source": [
    "# coversion is like \n",
    "# documents->list of sentences--> list of vocabulary\n",
    "document=\"\"\"It was pleasant day. The weather was cool and slower. I went to market to buy some fruits.  \"\"\"  # it is a documents\n",
    "\n",
    "\n",
    "sentence=\" Send to all 50 documents related to chapter 1,2,3 at gopi.jais0607@gmail.com \"\n"
   ]
  },
  {
   "cell_type": "code",
   "execution_count": 12,
   "metadata": {},
   "outputs": [],
   "source": [
    "from nltk.tokenize import sent_tokenize,word_tokenize"
   ]
  },
  {
   "cell_type": "code",
   "execution_count": 13,
   "metadata": {},
   "outputs": [
    {
     "name": "stdout",
     "output_type": "stream",
     "text": [
      "['It was pleasant day.', 'The weather was cool and slower.', 'I went to market to buy some fruits.']\n",
      "3\n"
     ]
    }
   ],
   "source": [
    "sents=sent_tokenize(document)\n",
    "print(sents)\n",
    "print(len(sents))"
   ]
  },
  {
   "cell_type": "code",
   "execution_count": 14,
   "metadata": {},
   "outputs": [],
   "source": [
    "word=word_tokenize(sents[0])"
   ]
  },
  {
   "cell_type": "code",
   "execution_count": 15,
   "metadata": {},
   "outputs": [
    {
     "data": {
      "text/plain": [
       "['It', 'was', 'pleasant', 'day', '.']"
      ]
     },
     "execution_count": 15,
     "metadata": {},
     "output_type": "execute_result"
    }
   ],
   "source": [
    "word"
   ]
  },
  {
   "cell_type": "code",
   "execution_count": 16,
   "metadata": {},
   "outputs": [
    {
     "data": {
      "text/plain": [
       "['Send',\n",
       " 'to',\n",
       " 'all',\n",
       " '50',\n",
       " 'documents',\n",
       " 'related',\n",
       " 'to',\n",
       " 'chapter',\n",
       " '1,2,3',\n",
       " 'at',\n",
       " 'gopi.jais0607',\n",
       " '@',\n",
       " 'gmail.com']"
      ]
     },
     "execution_count": 16,
     "metadata": {},
     "output_type": "execute_result"
    }
   ],
   "source": [
    "word_tokenize(sentence) # it split into word based on space by split we can split it on the basis of ,"
   ]
  },
  {
   "cell_type": "markdown",
   "metadata": {},
   "source": [
    "## Stopword"
   ]
  },
  {
   "cell_type": "code",
   "execution_count": 17,
   "metadata": {},
   "outputs": [],
   "source": [
    "from nltk.corpus import stopwords "
   ]
  },
  {
   "cell_type": "code",
   "execution_count": 18,
   "metadata": {},
   "outputs": [],
   "source": [
    "sw=set(stopwords.words('english'))"
   ]
  },
  {
   "cell_type": "code",
   "execution_count": 19,
   "metadata": {},
   "outputs": [
    {
     "name": "stdout",
     "output_type": "stream",
     "text": [
      "{\"you'd\", 'ain', \"weren't\", 'have', 'during', 'out', 'again', 'each', 'own', 'now', 'shan', 'was', 'were', 'further', \"you've\", 'yourselves', 'needn', 'how', 'had', 'if', 'him', 'my', 'has', 'whom', 'off', \"haven't\", 'wouldn', 'those', 'shouldn', 'am', \"should've\", 'it', 'most', 'yours', 'herself', 've', \"isn't\", 's', 'them', 'when', 'o', 'do', 'y', \"needn't\", 'hers', 'until', 'all', \"she's\", 'very', 'below', 'both', 'didn', 'too', 'so', 'up', \"mightn't\", 'before', \"you're\", 'his', 'with', 'did', 'me', 'd', 'ourselves', 'yourself', 'wasn', 'than', 'in', \"shouldn't\", 'where', 'through', 'there', 'by', 'don', 'or', 'being', 'be', 'under', 'll', 'i', 'then', 'for', 'no', 'over', 'just', 'against', 'mustn', 'doing', 'you', 'the', \"wouldn't\", 'an', 'can', 'should', 'been', 'won', 'mightn', 'from', 'between', 'once', 'while', 'not', 'as', 'our', 'what', 're', \"didn't\", \"that'll\", 'themselves', 'these', 'after', 'are', 'same', 'they', 'and', 'few', 't', 'haven', \"won't\", 'couldn', 'myself', 'because', \"couldn't\", 'her', 'more', 'we', 'isn', 'she', 'itself', 'he', \"wasn't\", 'hadn', 'but', 'about', \"you'll\", 'himself', \"shan't\", 'other', 'into', 'doesn', \"doesn't\", 'of', 'who', 'your', 'at', 'their', 'will', 'this', 'having', \"hasn't\", 'is', \"aren't\", 'only', 'weren', 'm', 'its', 'any', 'theirs', 'here', 'down', 'aren', 'a', 'nor', \"mustn't\", 'does', 'to', \"hadn't\", \"it's\", 'that', 'above', 'why', \"don't\", 'on', 'hasn', 'which', 'some', 'ours', 'ma', 'such'}\n"
     ]
    },
    {
     "data": {
      "text/plain": [
       "179"
      ]
     },
     "execution_count": 19,
     "metadata": {},
     "output_type": "execute_result"
    }
   ],
   "source": [
    "print(sw)\n",
    "len(sw)"
   ]
  },
  {
   "cell_type": "code",
   "execution_count": 20,
   "metadata": {},
   "outputs": [],
   "source": [
    "def remove_stopwords(text,stopwords):\n",
    "    useful_words= [w for w in text if w not in stopwords]\n",
    "    return useful_words"
   ]
  },
  {
   "cell_type": "code",
   "execution_count": 21,
   "metadata": {},
   "outputs": [],
   "source": [
    "text=\"i am not bothered  about her very much\"\n",
    "text=list(text.split(\" \"))\n",
    "usefulwords=remove_stopwords(text,sw) # it remove 'not' also which can sentiment the meaning of useful words"
   ]
  },
  {
   "cell_type": "code",
   "execution_count": 22,
   "metadata": {},
   "outputs": [
    {
     "name": "stdout",
     "output_type": "stream",
     "text": [
      "['bothered', '', 'much']\n"
     ]
    }
   ],
   "source": [
    "print(usefulwords)\n"
   ]
  },
  {
   "cell_type": "markdown",
   "metadata": {},
   "source": [
    "##  Tokenising using Regular Expression"
   ]
  },
  {
   "cell_type": "code",
   "execution_count": 23,
   "metadata": {},
   "outputs": [
    {
     "name": "stdout",
     "output_type": "stream",
     "text": [
      "['Send', 'to', 'all', '50', 'documents', 'related', 'to', 'chapter', '1,2,3', 'at', 'gopi.jais0607', '@', 'gmail.com']\n"
     ]
    }
   ],
   "source": [
    "\n",
    "# use Regex pal website to undersands regular expession\n",
    "sentence=\" Send to all 50 documents related to chapter 1,2,3 at gopi.jais0607@gmail.com \"\n",
    "remove_stopwords(list(sentence.split(\",\")),sw)  # we can see that it is not removing the numeric data\n",
    "# also if we tokenize the\n",
    "print(word_tokenize(sentence))  # it also showing the numberic data which me be infinite "
   ]
  },
  {
   "cell_type": "code",
   "execution_count": 24,
   "metadata": {},
   "outputs": [],
   "source": [
    "# we can use regular expression to remove this type of text\n",
    "\n",
    "\n",
    "from nltk.tokenize import RegexpTokenizer"
   ]
  },
  {
   "cell_type": "code",
   "execution_count": 25,
   "metadata": {},
   "outputs": [],
   "source": [
    "tokenizer=RegexpTokenizer('[a-zA-Z@.]+')  # + select the words as token\n",
    "usefulwords = tokenizer.tokenize(sentence)\n"
   ]
  },
  {
   "cell_type": "code",
   "execution_count": 26,
   "metadata": {},
   "outputs": [
    {
     "name": "stdout",
     "output_type": "stream",
     "text": [
      "['Send', 'to', 'all', 'documents', 'related', 'to', 'chapter', 'at', 'gopi.jais', '@gmail.com']\n"
     ]
    }
   ],
   "source": [
    "print(usefulwords)\n"
   ]
  },
  {
   "cell_type": "markdown",
   "metadata": {},
   "source": [
    "# Stemming \n",
    "- Process that transforms particular words(verbs,plurals)int their radical form\n",
    "- Preserve the sementics of the sentence without increasing the nunber of unique tokens\n",
    "- Example -umps,jumping,jumped,jump ====>> jump"
   ]
  },
  {
   "cell_type": "code",
   "execution_count": 27,
   "metadata": {},
   "outputs": [],
   "source": [
    "text=\"\"\"\"Foxes love to make jumps.\n",
    "The quick brown fox was seen jumping over the lovely dog from a 6 ft feet high wall\"\"\""
   ]
  },
  {
   "cell_type": "code",
   "execution_count": 28,
   "metadata": {},
   "outputs": [],
   "source": [
    "# nltk provides three type of stemmer \n",
    "# Snowball Stemmer,Portar,Lancaster Stemmer\n",
    "from nltk.stem.snowball import SnowballStemmer,PorterStemmer\n",
    "from nltk.stem.lancaster import LancasterStemmer"
   ]
  },
  {
   "cell_type": "code",
   "execution_count": 29,
   "metadata": {},
   "outputs": [
    {
     "data": {
      "text/plain": [
       "'jump'"
      ]
     },
     "execution_count": 29,
     "metadata": {},
     "output_type": "execute_result"
    }
   ],
   "source": [
    "ps=PorterStemmer() # object \n",
    "ps.stem('jumping')"
   ]
  },
  {
   "cell_type": "code",
   "execution_count": 30,
   "metadata": {},
   "outputs": [
    {
     "data": {
      "text/plain": [
       "'jump'"
      ]
     },
     "execution_count": 30,
     "metadata": {},
     "output_type": "execute_result"
    }
   ],
   "source": [
    "ps.stem('jumps')"
   ]
  },
  {
   "cell_type": "code",
   "execution_count": 31,
   "metadata": {},
   "outputs": [
    {
     "data": {
      "text/plain": [
       "'love'"
      ]
     },
     "execution_count": 31,
     "metadata": {},
     "output_type": "execute_result"
    }
   ],
   "source": [
    "ps.stem('lovely')"
   ]
  },
  {
   "cell_type": "code",
   "execution_count": 32,
   "metadata": {},
   "outputs": [
    {
     "data": {
      "text/plain": [
       "'love'"
      ]
     },
     "execution_count": 32,
     "metadata": {},
     "output_type": "execute_result"
    }
   ],
   "source": [
    "ps.stem('loving')"
   ]
  },
  {
   "cell_type": "code",
   "execution_count": 33,
   "metadata": {},
   "outputs": [],
   "source": [
    "# NOTE: Every stemmer works on differente set of rules so it can gives different results\n"
   ]
  },
  {
   "cell_type": "code",
   "execution_count": 34,
   "metadata": {},
   "outputs": [],
   "source": [
    "# SnowballStemmer  It is multilanguage stemmer so we want to specifie the language also\n",
    "\n",
    "ss=SnowballStemmer('english')"
   ]
  },
  {
   "cell_type": "code",
   "execution_count": 35,
   "metadata": {},
   "outputs": [
    {
     "data": {
      "text/plain": [
       "'love'"
      ]
     },
     "execution_count": 35,
     "metadata": {},
     "output_type": "execute_result"
    }
   ],
   "source": [
    "ss.stem('lovely')"
   ]
  },
  {
   "cell_type": "code",
   "execution_count": 36,
   "metadata": {},
   "outputs": [
    {
     "data": {
      "text/plain": [
       "'jump'"
      ]
     },
     "execution_count": 36,
     "metadata": {},
     "output_type": "execute_result"
    }
   ],
   "source": [
    "ss.stem('jumping')"
   ]
  },
  {
   "cell_type": "code",
   "execution_count": 37,
   "metadata": {},
   "outputs": [],
   "source": [
    "# nltk.download('wordnet') download wordnet"
   ]
  },
  {
   "cell_type": "code",
   "execution_count": 38,
   "metadata": {},
   "outputs": [
    {
     "data": {
      "text/plain": [
       "'lovely'"
      ]
     },
     "execution_count": 38,
     "metadata": {},
     "output_type": "execute_result"
    }
   ],
   "source": [
    "## lemmatizations it is oraganize by WordNet\n",
    "from nltk.stem import WordNetLemmatizer\n",
    "wn=WordNetLemmatizer()\n",
    "wn.lemmatize(\"lovely\")"
   ]
  },
  {
   "cell_type": "markdown",
   "metadata": {},
   "source": [
    "## Building a Vocab & Vectorization"
   ]
  },
  {
   "cell_type": "code",
   "execution_count": 39,
   "metadata": {},
   "outputs": [],
   "source": [
    "# sample Corpus -Contains 4 Documents,each documents can Move 1 or more sentences\n",
    "\n",
    "corpus=[\n",
    "      'Indian cricket team will wins world Cup,says Capt.Virat Kohli.World cup will be held at Sri Lanka',\n",
    "       'We will win next Lok Sabha Elections,says confident Indian PM',\n",
    "      'The nobel laurate won the hearts of the people.',\n",
    "    'The movie Raazi is an exciting Indian Spy thriller based upon a real story.', \n",
    "]\n",
    "\n",
    "# 1 sports ,2 plolitics 3 economy 4 movie\n",
    "\n",
    "# so we will convert each doc as a one feature vector\n",
    "\n",
    "# so can use dict to store the vocab\n",
    "\n",
    "# but here we are using sk learn for doing this."
   ]
  },
  {
   "cell_type": "code",
   "execution_count": 40,
   "metadata": {},
   "outputs": [],
   "source": [
    "from sklearn.feature_extraction.text import CountVectorizer"
   ]
  },
  {
   "cell_type": "code",
   "execution_count": 41,
   "metadata": {},
   "outputs": [],
   "source": [
    "cv=CountVectorizer() # creating a object\n",
    "\n",
    "vectorized_corpus=cv.fit_transform(corpus)"
   ]
  },
  {
   "cell_type": "code",
   "execution_count": 42,
   "metadata": {},
   "outputs": [
    {
     "data": {
      "text/plain": [
       "2"
      ]
     },
     "execution_count": 42,
     "metadata": {},
     "output_type": "execute_result"
    }
   ],
   "source": [
    "vectorized_corpus\n",
    "len(vectorized_corpus.shape)"
   ]
  },
  {
   "cell_type": "code",
   "execution_count": 43,
   "metadata": {},
   "outputs": [],
   "source": [
    "#vectorized_corpus?  here we can see that ex-(0,6)  1 mean in the 0 sentence first word getting 6 index in the dict with freq 1 \n"
   ]
  },
  {
   "cell_type": "code",
   "execution_count": 44,
   "metadata": {},
   "outputs": [],
   "source": [
    "vectorized_corpus=vectorized_corpus.toarray()\n"
   ]
  },
  {
   "cell_type": "code",
   "execution_count": 45,
   "metadata": {},
   "outputs": [
    {
     "name": "stdout",
     "output_type": "stream",
     "text": [
      "[0 1 0 1 1 0 1 2 0 0 0 1 1 0 1 1 0 0 0 0 0 0 0 0 0 0 0 1 0 1 0 1 0 0 0 1 0\n",
      " 2 0 1 0 2]\n"
     ]
    },
    {
     "data": {
      "text/plain": [
       "42"
      ]
     },
     "execution_count": 45,
     "metadata": {},
     "output_type": "execute_result"
    }
   ],
   "source": [
    "\n",
    "# see the first documents\n",
    "print(vectorized_corpus[0])\n",
    "len(vectorized_corpus[0])"
   ]
  },
  {
   "cell_type": "code",
   "execution_count": 46,
   "metadata": {},
   "outputs": [
    {
     "name": "stdout",
     "output_type": "stream",
     "text": [
      "{'indian': 12, 'cricket': 6, 'team': 31, 'will': 37, 'wins': 39, 'world': 41, 'cup': 7, 'says': 27, 'capt': 4, 'virat': 35, 'kohli': 14, 'be': 3, 'held': 11, 'at': 1, 'sri': 29, 'lanka': 15, 'we': 36, 'win': 38, 'next': 19, 'lok': 17, 'sabha': 26, 'elections': 8, 'confident': 5, 'pm': 23, 'the': 32, 'nobel': 20, 'laurate': 16, 'won': 40, 'hearts': 10, 'of': 21, 'people': 22, 'movie': 18, 'raazi': 24, 'is': 13, 'an': 0, 'exciting': 9, 'spy': 28, 'thriller': 33, 'based': 2, 'upon': 34, 'real': 25, 'story': 30}\n"
     ]
    }
   ],
   "source": [
    "print(cv.vocabulary_ ) # we can see the word in vocab"
   ]
  },
  {
   "cell_type": "code",
   "execution_count": 47,
   "metadata": {},
   "outputs": [
    {
     "data": {
      "text/plain": [
       "42"
      ]
     },
     "execution_count": 47,
     "metadata": {},
     "output_type": "execute_result"
    }
   ],
   "source": [
    "len(cv.vocabulary_.keys())"
   ]
  },
  {
   "cell_type": "code",
   "execution_count": 48,
   "metadata": {},
   "outputs": [
    {
     "name": "stdout",
     "output_type": "stream",
     "text": [
      "[0 0 0 0 0 0 0 0 0 0 1 0 0 0 0 0 1 0 0 0 1 1 1 0 0 0 0 0 0 0 0 0 3 0 0 0 0\n",
      " 0 0 0 1 0]\n",
      "[array(['hearts', 'laurate', 'nobel', 'of', 'people', 'the', 'won'],\n",
      "      dtype='<U9')]\n"
     ]
    }
   ],
   "source": [
    "# Reverse mapping \n",
    "numbers=vectorized_corpus[2]\n",
    "s=cv.inverse_transform(numbers)\n",
    "print(numbers)\n",
    "print(s)"
   ]
  },
  {
   "cell_type": "markdown",
   "metadata": {},
   "source": [
    "## Vectorization with Stopword Removal"
   ]
  },
  {
   "cell_type": "code",
   "execution_count": 52,
   "metadata": {},
   "outputs": [],
   "source": [
    " # we can see that it take a tokenizer so we can give our tokenizer"
   ]
  },
  {
   "cell_type": "code",
   "execution_count": 53,
   "metadata": {},
   "outputs": [],
   "source": [
    "cv=CountVectorizer() # object of vectorizer "
   ]
  },
  {
   "cell_type": "code",
   "execution_count": 54,
   "metadata": {},
   "outputs": [
    {
     "name": "stdout",
     "output_type": "stream",
     "text": [
      "CountVectorizer(analyzer='word', binary=False, decode_error='strict',\n",
      "                dtype=<class 'numpy.int64'>, encoding='utf-8', input='content',\n",
      "                lowercase=True, max_df=1.0, max_features=None, min_df=1,\n",
      "                ngram_range=(1, 1), preprocessor=None, stop_words=None,\n",
      "                strip_accents=None, token_pattern='(?u)\\\\b\\\\w\\\\w+\\\\b',\n",
      "                tokenizer=None, vocabulary=None)\n"
     ]
    }
   ],
   "source": [
    "print(cv) #Here we can see that it is taking a tokenizer functions so we can give our tokenizer"
   ]
  },
  {
   "cell_type": "code",
   "execution_count": 56,
   "metadata": {},
   "outputs": [
    {
     "data": {
      "text/plain": [
       "['function']"
      ]
     },
     "execution_count": 56,
     "metadata": {},
     "output_type": "execute_result"
    }
   ],
   "source": [
    "def myTokenizer(document):\n",
    "    words=tokenizer.tokenize(document.lower());  # so that indian and Indian should treated as same \n",
    "    words=remove_stopwords(words,sw)\n",
    "    return words\n",
    "    \n",
    "    \n",
    "myTokenizer(\"this is my function\")    # so it is giving only function as a usefull words"
   ]
  },
  {
   "cell_type": "code",
   "execution_count": 62,
   "metadata": {},
   "outputs": [
    {
     "data": {
      "text/plain": [
       "['send', 'documents', 'related', 'chapter', 'gopi.jais', '@gmail.com']"
      ]
     },
     "execution_count": 62,
     "metadata": {},
     "output_type": "execute_result"
    }
   ],
   "source": [
    "myTokenizer(sentence) # only few words out of all documents"
   ]
  },
  {
   "cell_type": "code",
   "execution_count": 63,
   "metadata": {},
   "outputs": [],
   "source": [
    "# pass our tokenizer in the function\n",
    "\n",
    "cv=CountVectorizer(tokenizer=myTokenizer)"
   ]
  },
  {
   "cell_type": "code",
   "execution_count": 74,
   "metadata": {},
   "outputs": [
    {
     "name": "stdout",
     "output_type": "stream",
     "text": [
      "[[0 1 0 1 2 0 0 0 1 1 1 1 0 0 0 0 0 0 0 0 0 0 1 0 1 0 1 0 0 0 1 1]\n",
      " [0 0 1 0 0 1 0 0 0 1 0 0 0 1 0 1 0 0 1 0 0 1 1 0 0 0 0 0 0 1 0 0]\n",
      " [0 0 0 0 0 0 0 1 0 0 0 0 1 0 0 0 1 1 0 0 0 0 0 0 0 0 0 0 0 0 0 0]\n",
      " [1 0 0 0 0 0 1 0 0 1 0 0 0 0 1 0 0 0 0 1 1 0 0 1 0 1 0 1 1 0 0 0]]\n",
      "32\n"
     ]
    }
   ],
   "source": [
    "vectorized_corpus=cv.fit_transform(corpus).toarray()\n",
    "print(vectorized_corpus)\n",
    "print(len(vectorized_corpus[0]))  #so it is reduce 42 to 32\n",
    "#vectorized_corpus"
   ]
  },
  {
   "cell_type": "code",
   "execution_count": 75,
   "metadata": {},
   "outputs": [
    {
     "data": {
      "text/plain": [
       "[array(['capt.virat', 'cricket', 'cup', 'held', 'indian', 'kohli.world',\n",
       "        'lanka', 'says', 'sri', 'team', 'wins', 'world'], dtype='<U11'),\n",
       " array(['confident', 'elections', 'indian', 'lok', 'next', 'pm', 'sabha',\n",
       "        'says', 'win'], dtype='<U11'),\n",
       " array(['hearts', 'laurate', 'nobel', 'people.'], dtype='<U11'),\n",
       " array(['based', 'exciting', 'indian', 'movie', 'raazi', 'real', 'spy',\n",
       "        'story.', 'thriller', 'upon'], dtype='<U11')]"
      ]
     },
     "execution_count": 75,
     "metadata": {},
     "output_type": "execute_result"
    }
   ],
   "source": [
    "cv.inverse_transform(vectorized_corpus)"
   ]
  },
  {
   "cell_type": "code",
   "execution_count": 80,
   "metadata": {},
   "outputs": [],
   "source": [
    "# for test data \n",
    "# we will call fit_transform for training data and only transform for test data otherwise it will overwite the vocabulary\n",
    "\n",
    "test_coupus=[\n",
    "    \"Indian\",\"cricket\",\"rocks!\"\n",
    "]\n",
    "\n",
    "\n",
    "test=cv.transform(test_coupus)  # if i am using fit_transform it will overwrite the vocabulary"
   ]
  },
  {
   "cell_type": "code",
   "execution_count": 81,
   "metadata": {},
   "outputs": [
    {
     "data": {
      "text/plain": [
       "{'indian': 9,\n",
       " 'cricket': 3,\n",
       " 'team': 26,\n",
       " 'wins': 30,\n",
       " 'world': 31,\n",
       " 'cup': 4,\n",
       " 'says': 22,\n",
       " 'capt.virat': 1,\n",
       " 'kohli.world': 10,\n",
       " 'held': 8,\n",
       " 'sri': 24,\n",
       " 'lanka': 11,\n",
       " 'win': 29,\n",
       " 'next': 15,\n",
       " 'lok': 13,\n",
       " 'sabha': 21,\n",
       " 'elections': 5,\n",
       " 'confident': 2,\n",
       " 'pm': 18,\n",
       " 'nobel': 16,\n",
       " 'laurate': 12,\n",
       " 'hearts': 7,\n",
       " 'people.': 17,\n",
       " 'movie': 14,\n",
       " 'raazi': 19,\n",
       " 'exciting': 6,\n",
       " 'spy': 23,\n",
       " 'thriller': 27,\n",
       " 'based': 0,\n",
       " 'upon': 28,\n",
       " 'real': 20,\n",
       " 'story.': 25}"
      ]
     },
     "execution_count": 81,
     "metadata": {},
     "output_type": "execute_result"
    }
   ],
   "source": [
    "cv.vocabulary_  # it is not overwrite "
   ]
  },
  {
   "cell_type": "code",
   "execution_count": 82,
   "metadata": {},
   "outputs": [
    {
     "data": {
      "text/plain": [
       "{'indian': 1, 'cricket': 0, 'rocks': 2}"
      ]
     },
     "execution_count": 82,
     "metadata": {},
     "output_type": "execute_result"
    }
   ],
   "source": [
    "# lets overwirte the vocabualry\n",
    "cv.fit_transform(test_coupus)\n",
    "cv.vocabulary_   # now ir has been modified "
   ]
  },
  {
   "cell_type": "code",
   "execution_count": 83,
   "metadata": {},
   "outputs": [],
   "source": [
    "# Note :we will use fit_trasform for training data and transform for test data "
   ]
  },
  {
   "cell_type": "markdown",
   "metadata": {},
   "source": [
    "# More Ways to create Features\n",
    "\n",
    "\n",
    "- Unigram ->  every words as a feature ex- this is good movie so this ,is, good movie may be a feature\n",
    "- Bigrams-> every conjuctive pair of words as a  feature\n",
    "- Trigrams\n",
    "- n-grams\n",
    "- TF-IDF Normalisation"
   ]
  },
  {
   "cell_type": "code",
   "execution_count": 85,
   "metadata": {},
   "outputs": [],
   "source": [
    "sent_1=[\"this is good movie\"]\n",
    "sent_2=[\"This is not good movie\"]"
   ]
  },
  {
   "cell_type": "code",
   "execution_count": 86,
   "metadata": {},
   "outputs": [
    {
     "data": {
      "text/plain": [
       "array([[1, 1, 1, 0, 1],\n",
       "       [1, 1, 1, 1, 1]], dtype=int64)"
      ]
     },
     "execution_count": 86,
     "metadata": {},
     "output_type": "execute_result"
    }
   ],
   "source": [
    "cv=CountVectorizer()\n",
    "docs=[sent_1[0],sent_2[0]]\n",
    "cv.fit_transform(docs).toarray(0)\n",
    "# here it is difficult to capture negation so it is difficult to give correct out\n",
    "# Because here is confusion it may predict that both or good\n"
   ]
  },
  {
   "cell_type": "code",
   "execution_count": 87,
   "metadata": {},
   "outputs": [
    {
     "data": {
      "text/plain": [
       "{'this': 4, 'is': 1, 'good': 0, 'movie': 2, 'not': 3}"
      ]
     },
     "execution_count": 87,
     "metadata": {},
     "output_type": "execute_result"
    }
   ],
   "source": [
    "cv.vocabulary_"
   ]
  },
  {
   "cell_type": "code",
   "execution_count": 91,
   "metadata": {},
   "outputs": [
    {
     "data": {
      "text/plain": [
       "array([[1, 0, 0, 1, 0],\n",
       "       [0, 1, 1, 0, 1]], dtype=int64)"
      ]
     },
     "execution_count": 91,
     "metadata": {},
     "output_type": "execute_result"
    }
   ],
   "source": [
    "# Now take an example lets\n",
    "sent_1=[\"this is good movie\"]\n",
    "sent_2=[\"this is good movie but actor is not present\"]\n",
    "sent_3=[\"this is not good movie\"]\n",
    "# here sent_1 and sent_2 both are + review but both containg words good,movie,not so it will take it as positive review which is cofunsion\n",
    "# it due to we are captureing the not good feature together .so we will use Bigrams\n",
    "\n",
    "# in Bigrams it will increase the the size of the vector \n",
    "# but it also has some advantage \n",
    "cv=CountVectorizer(ngram_range=(3,3))\n",
    "cv.fit_transform(docs).toarray()"
   ]
  },
  {
   "cell_type": "code",
   "execution_count": 92,
   "metadata": {},
   "outputs": [
    {
     "data": {
      "text/plain": [
       "{'this is good': 3,\n",
       " 'is good movie': 0,\n",
       " 'this is not': 4,\n",
       " 'is not good': 1,\n",
       " 'not good movie': 2}"
      ]
     },
     "execution_count": 92,
     "metadata": {},
     "output_type": "execute_result"
    }
   ],
   "source": [
    "cv.vocabulary_"
   ]
  },
  {
   "cell_type": "code",
   "execution_count": 93,
   "metadata": {},
   "outputs": [],
   "source": [
    "# we can use  trigram replace (ngram_range=(3,3))\n",
    "\n",
    "\n"
   ]
  },
  {
   "cell_type": "markdown",
   "metadata": {},
   "source": [
    "# TF-IDF Noramlisation  (Term Frequency and Inverse Document Frequency)\n",
    "- Avoid features that occur very other because they contain less information\n",
    "- Information decreases as the number of occurences increses across different type of documents\n",
    "- So we define another term -term-document-frequency which associates a weight with every "
   ]
  },
  {
   "cell_type": "code",
   "execution_count": 109,
   "metadata": {},
   "outputs": [],
   "source": [
    "sent_1=\"this is good movies\"\n",
    "sent_2=\"this was good movie\"\n",
    "sent_3=\"this is not good movie\"\n",
    "corpus=[sent_1,sent_2,sent_3]"
   ]
  },
  {
   "cell_type": "code",
   "execution_count": 110,
   "metadata": {},
   "outputs": [],
   "source": [
    "from sklearn.feature_extraction.text import TfidfVectorizer"
   ]
  },
  {
   "cell_type": "code",
   "execution_count": 111,
   "metadata": {},
   "outputs": [
    {
     "name": "stdout",
     "output_type": "stream",
     "text": [
      "[[0.39148397 0.50410689 0.         0.66283998 0.         0.39148397\n",
      "  0.        ]\n",
      " [0.39148397 0.         0.50410689 0.         0.         0.39148397\n",
      "  0.66283998]\n",
      " [0.34957775 0.45014501 0.45014501 0.         0.59188659 0.34957775\n",
      "  0.        ]]\n"
     ]
    }
   ],
   "source": [
    "tfidf=TfidfVectorizer()\n",
    "vc=tfidf.fit_transform(corpus).toarray()\n",
    "print(vc)"
   ]
  },
  {
   "cell_type": "code",
   "execution_count": 113,
   "metadata": {},
   "outputs": [
    {
     "data": {
      "text/plain": [
       "{'this': 5, 'is': 1, 'good': 0, 'movies': 3, 'was': 6, 'movie': 2, 'not': 4}"
      ]
     },
     "execution_count": 113,
     "metadata": {},
     "output_type": "execute_result"
    }
   ],
   "source": [
    "tfidf.vocabulary_  #here at index was has weight height in   2 document and  in rest it has 0"
   ]
  },
  {
   "cell_type": "code",
   "execution_count": 114,
   "metadata": {},
   "outputs": [],
   "source": [
    "# here tf(t,d)--> an term occur in d's document\n",
    "# idf(t,d)-->log N/(1+count(t,d))-->log (N/count(t,d))\n",
    "# where N is total documents\n",
    "# in exmaple \n",
    "# exmaple for is tfidf feature is 1*log(3/1)  \n",
    "# so we can feed tfidf for any machine learning classifer"
   ]
  },
  {
   "cell_type": "code",
   "execution_count": null,
   "metadata": {},
   "outputs": [],
   "source": []
  }
 ],
 "metadata": {
  "kernelspec": {
   "display_name": "Python 3",
   "language": "python",
   "name": "python3"
  },
  "language_info": {
   "codemirror_mode": {
    "name": "ipython",
    "version": 3
   },
   "file_extension": ".py",
   "mimetype": "text/x-python",
   "name": "python",
   "nbconvert_exporter": "python",
   "pygments_lexer": "ipython3",
   "version": "3.7.4"
  }
 },
 "nbformat": 4,
 "nbformat_minor": 2
}
