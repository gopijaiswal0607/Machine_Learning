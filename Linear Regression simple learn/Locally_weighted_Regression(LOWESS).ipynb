{
 "cells": [
  {
   "cell_type": "markdown",
   "metadata": {},
   "source": [
    "## Locally Weighted Regression\n",
    "\n",
    "1) Read and Noramlized the data\n",
    "\n",
    "2) Generate W for every Query Point.\n",
    "\n",
    "3) No training involve,directly prediction using (X.T W X)*(X.T w Y)\n",
    "\n",
    "4) Finde the best value for Tau (Bandwidth Parameter)"
   ]
  },
  {
   "cell_type": "code",
   "execution_count": 10,
   "metadata": {},
   "outputs": [],
   "source": [
    "import numpy as np\n",
    "import matplotlib.pyplot as plt\n",
    "import pandas as pd;"
   ]
  },
  {
   "cell_type": "markdown",
   "metadata": {},
   "source": [
    "# Loading the data"
   ]
  },
  {
   "cell_type": "code",
   "execution_count": 152,
   "metadata": {},
   "outputs": [],
   "source": [
    "X=np.zeros((99,99))\n",
    "Y=np.zeros((99,99))\n",
    "for i in range(99):\n",
    "    temp=i;\n",
    "    for j in range(99):\n",
    "        X[i,j]=temp\n",
    "        temp +=1\n",
    "        Y[i,j]=i**2+j**2\n",
    "        \n",
    "        "
   ]
  },
  {
   "cell_type": "code",
   "execution_count": 153,
   "metadata": {},
   "outputs": [],
   "source": [
    "plt.style.use(\"seaborn\")\n",
    "X=np.array(X)\n",
    "Y=np.array(Y)"
   ]
  },
  {
   "cell_type": "code",
   "execution_count": 154,
   "metadata": {},
   "outputs": [
    {
     "data": {
      "image/png": "[encoded data removed]",
      "text/plain": [
       "<Figure size 576x396 with 1 Axes>"
      ]
     },
     "metadata": {},
     "output_type": "display_data"
    }
   ],
   "source": [
    "plt.scatter(X,Y)\n",
    "plt.show()"
   ]
  },
  {
   "cell_type": "code",
   "execution_count": 155,
   "metadata": {},
   "outputs": [
    {
     "name": "stdout",
     "output_type": "stream",
     "text": [
      "40.414518843273804\n",
      "98.0\n"
     ]
    }
   ],
   "source": [
    "print(X.std())\n",
    "print(X.mean())"
   ]
  },
  {
   "cell_type": "code",
   "execution_count": 156,
   "metadata": {},
   "outputs": [],
   "source": [
    "# Normalised the data\n",
    "X=(X-X.mean())/X.std()"
   ]
  },
  {
   "cell_type": "code",
   "execution_count": 157,
   "metadata": {},
   "outputs": [
    {
     "data": {
      "text/plain": [
       "<matplotlib.collections.PathCollection at 0x233d8dc8848>"
      ]
     },
     "execution_count": 157,
     "metadata": {},
     "output_type": "execute_result"
    },
    {
     "data": {
      "image/png": "[encoded data removed]",
      "text/plain": [
       "<Figure size 576x396 with 1 Axes>"
      ]
     },
     "metadata": {},
     "output_type": "display_data"
    }
   ],
   "source": [
    "plt.scatter(X,Y)"
   ]
  },
  {
   "cell_type": "code",
   "execution_count": 158,
   "metadata": {},
   "outputs": [
    {
     "name": "stdout",
     "output_type": "stream",
     "text": [
      "0.0 1.0\n"
     ]
    }
   ],
   "source": [
    "print(X.mean(),X.std())   # so it is a normalised data"
   ]
  },
  {
   "cell_type": "markdown",
   "metadata": {},
   "source": [
    "## Find out W (m X m) digonal matrix"
   ]
  },
  {
   "cell_type": "code",
   "execution_count": 159,
   "metadata": {},
   "outputs": [],
   "source": [
    "W=np.mat(np.eye(X.shape[0]))  # numpy matrix\n",
    "# The differece between numpy matrix and numpy array is a*b-->matrix-->matrix_mul and a*b -->numpy array --> elementwise multiplication"
   ]
  },
  {
   "cell_type": "code",
   "execution_count": 173,
   "metadata": {},
   "outputs": [],
   "source": [
    "def getW(query_point,X,tau):\n",
    "    M=X.shape[0]\n",
    "    W=np.mat(np.eye(M))\n",
    "    for i in range(M):\n",
    "        xi=X[i];\n",
    "        x=query_point\n",
    "        W[i,i]=np.exp((np.dot((xi-x),(xi-x).T)/(-2*tau*tau)))\n",
    "    return W;\n",
    "    "
   ]
  },
  {
   "cell_type": "code",
   "execution_count": 178,
   "metadata": {},
   "outputs": [
    {
     "name": "stdout",
     "output_type": "stream",
     "text": [
      "(99, 99)\n",
      "[[0.99997302 0.         0.         ... 0.         0.         0.        ]\n",
      " [0.         0.99997351 0.         ... 0.         0.         0.        ]\n",
      " [0.         0.         0.99997394 ... 0.         0.         0.        ]\n",
      " ...\n",
      " [0.         0.         0.         ... 0.9997437  0.         0.        ]\n",
      " [0.         0.         0.         ... 0.         0.99973838 0.        ]\n",
      " [0.         0.         0.         ... 0.         0.         0.99973299]]\n"
     ]
    }
   ],
   "source": [
    "X=np.mat(X)\n",
    "Y=np.mat(Y)\n",
    "m=X.shape[0]\n",
    "W=getW(-1,X,1000) #if we change the value of tau then it is closed to identity .\n",
    "print(W.shape)\n",
    "print(W) # So we can see that the point which is closer is max and which is faraway is less "
   ]
  },
  {
   "cell_type": "code",
   "execution_count": 179,
   "metadata": {},
   "outputs": [],
   "source": [
    "# if tau is large ,it mean that bandwidth is high and the locally point is more or vice versa\n"
   ]
  },
  {
   "cell_type": "markdown",
   "metadata": {},
   "source": [
    "## Make Predictions"
   ]
  },
  {
   "cell_type": "code",
   "execution_count": 184,
   "metadata": {},
   "outputs": [],
   "source": [
    "def predict(X,Y,query_X,tau):# there should one more feature\n",
    "    m=X.shape[0]\n",
    "    ones=np.ones((m,1))\n",
    "    X_=np.hstack((X,ones)) \n",
    "    qx=(query_X)\n",
    "    W=getW(qx,X_,tau)\n",
    "    theta=np.linalg.pinv(X_.T*(W*X_))*(X_.T*(W*Y))\n",
    "    pred=qx*theta\n",
    "   # print(theta.shape)\n",
    "    return theta,pred        "
   ]
  },
  {
   "cell_type": "code",
   "execution_count": 185,
   "metadata": {},
   "outputs": [],
   "source": [
    "theta,pred=predict(X,Y,1,1000)"
   ]
  },
  {
   "cell_type": "code",
   "execution_count": 186,
   "metadata": {},
   "outputs": [
    {
     "data": {
      "text/plain": [
       "matrix([[ -37.2444199 ,  -37.26842852,  -37.3404544 , ..., -258.50790841,\n",
       "         -263.14157305, -267.82325493],\n",
       "        [ -35.66786144,  -35.6913801 ,  -35.76193605, ..., -252.41576855,\n",
       "         -256.95486861, -261.54100596],\n",
       "        [ -34.09130298,  -34.11433167,  -34.18341771, ..., -246.3236287 ,\n",
       "         -250.76816417, -255.258757  ],\n",
       "        ...,\n",
       "        [ 115.68175048,  115.70526913,  115.77582509, ...,  332.42965759,\n",
       "          336.96875764,  341.554895  ],\n",
       "        [ 117.25830893,  117.28231756,  117.35434343, ...,  338.52179744,\n",
       "          343.15546208,  347.83714397],\n",
       "        [  63.71585149,   63.73565347,   63.79505941, ...,  246.21090099,\n",
       "          250.03268317,  253.89406931]])"
      ]
     },
     "execution_count": 186,
     "metadata": {},
     "output_type": "execute_result"
    }
   ],
   "source": [
    "theta"
   ]
  },
  {
   "cell_type": "code",
   "execution_count": 187,
   "metadata": {},
   "outputs": [
    {
     "data": {
      "text/plain": [
       "matrix([[ -37.2444199 ,  -37.26842852,  -37.3404544 , ..., -258.50790841,\n",
       "         -263.14157305, -267.82325493],\n",
       "        [ -35.66786144,  -35.6913801 ,  -35.76193605, ..., -252.41576855,\n",
       "         -256.95486861, -261.54100596],\n",
       "        [ -34.09130298,  -34.11433167,  -34.18341771, ..., -246.3236287 ,\n",
       "         -250.76816417, -255.258757  ],\n",
       "        ...,\n",
       "        [ 115.68175048,  115.70526913,  115.77582509, ...,  332.42965759,\n",
       "          336.96875764,  341.554895  ],\n",
       "        [ 117.25830893,  117.28231756,  117.35434343, ...,  338.52179744,\n",
       "          343.15546208,  347.83714397],\n",
       "        [  63.71585149,   63.73565347,   63.79505941, ...,  246.21090099,\n",
       "          250.03268317,  253.89406931]])"
      ]
     },
     "execution_count": 187,
     "metadata": {},
     "output_type": "execute_result"
    }
   ],
   "source": [
    "pred"
   ]
  },
  {
   "cell_type": "code",
   "execution_count": 188,
   "metadata": {},
   "outputs": [],
   "source": [
    "def plotPrediction(tau):\n",
    "    X_test=np.linspace(-2,2,20)\n",
    "    Y_test=[]\n",
    "    for xq in X_test:\n",
    "        theta,pred=predict(X,Y,xq,tau)\n",
    "        Y_test.append(pred)\n",
    "        XO=np.array(X)\n",
    "        YO=np.array(Y)\n",
    "        plt.scatter(XO,YO)\n",
    "        plt.scatter(X_test,Y_test,color=\"red\")\n",
    "        plt.show()"
   ]
  },
  {
   "cell_type": "code",
   "execution_count": 190,
   "metadata": {},
   "outputs": [],
   "source": [
    "# So how the tau varry the prediction is performe for accurate ans"
   ]
  },
  {
   "cell_type": "code",
   "execution_count": null,
   "metadata": {},
   "outputs": [],
   "source": []
  }
 ],
 "metadata": {
  "kernelspec": {
   "display_name": "Python 3",
   "language": "python",
   "name": "python3"
  },
  "language_info": {
   "codemirror_mode": {
    "name": "ipython",
    "version": 3
   },
   "file_extension": ".py",
   "mimetype": "text/x-python",
   "name": "python",
   "nbconvert_exporter": "python",
   "pygments_lexer": "ipython3",
   "version": "3.7.4"
  }
 },
 "nbformat": 4,
 "nbformat_minor": 2
}
